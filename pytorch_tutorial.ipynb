{
 "cells": [
  {
   "cell_type": "code",
   "execution_count": 6,
   "metadata": {},
   "outputs": [
    {
     "name": "stdout",
     "output_type": "stream",
     "text": [
      "Requirement already satisfied: torch in /Users/yoshimurahiroyuki/.pyenv/versions/anaconda3-4.0.0/lib/python3.5/site-packages (1.5.0)\n",
      "Collecting torchvision\n",
      "  Downloading torchvision-0.6.0-cp35-cp35m-macosx_10_6_x86_64.whl (436 kB)\n",
      "\u001b[K     |████████████████████████████████| 436 kB 425 kB/s eta 0:00:01\n",
      "\u001b[?25hRequirement already satisfied: future in /Users/yoshimurahiroyuki/.pyenv/versions/anaconda3-4.0.0/lib/python3.5/site-packages (from torch) (0.18.2)\n",
      "Requirement already satisfied: numpy in /Users/yoshimurahiroyuki/.pyenv/versions/anaconda3-4.0.0/lib/python3.5/site-packages (from torch) (1.10.4)\n",
      "Collecting pillow>=4.1.1\n",
      "  Downloading Pillow-7.1.2-cp35-cp35m-macosx_10_10_intel.whl (2.2 MB)\n",
      "\u001b[K     |████████████████████████████████| 2.2 MB 1.0 MB/s eta 0:00:01     |███████████████████████         | 1.6 MB 1.0 MB/s eta 0:00:01\n",
      "\u001b[?25hInstalling collected packages: pillow, torchvision\n",
      "  Attempting uninstall: pillow\n",
      "    Found existing installation: Pillow 3.1.1\n",
      "    Uninstalling Pillow-3.1.1:\n",
      "      Successfully uninstalled Pillow-3.1.1\n",
      "Successfully installed pillow-7.1.2 torchvision-0.6.0\n"
     ]
    }
   ],
   "source": [
    "!pip install torch torchvision\n"
   ]
  },
  {
   "cell_type": "code",
   "execution_count": 7,
   "metadata": {},
   "outputs": [],
   "source": [
    "from __future__ import print_function\n",
    "\n",
    "import torch"
   ]
  },
  {
   "cell_type": "code",
   "execution_count": 9,
   "metadata": {},
   "outputs": [
    {
     "name": "stdout",
     "output_type": "stream",
     "text": [
      "tensor([[0.7494, 0.5189, 0.0894],\n",
      "        [0.3939, 0.0673, 0.9713],\n",
      "        [0.0925, 0.1196, 0.6310],\n",
      "        [0.9940, 0.7542, 0.2136],\n",
      "        [0.2256, 0.9869, 0.9843]])\n"
     ]
    }
   ],
   "source": [
    "x= torch.rand(5,3)\n",
    "print(x)"
   ]
  },
  {
   "cell_type": "code",
   "execution_count": 11,
   "metadata": {},
   "outputs": [
    {
     "name": "stdout",
     "output_type": "stream",
     "text": [
      "tensor([[0, 0, 0],\n",
      "        [0, 0, 0],\n",
      "        [0, 0, 0],\n",
      "        [0, 0, 0],\n",
      "        [0, 0, 0]])\n"
     ]
    }
   ],
   "source": [
    "x = torch.zeros(5,3, dtype = torch.long)\n",
    "print(x)"
   ]
  },
  {
   "cell_type": "code",
   "execution_count": 12,
   "metadata": {},
   "outputs": [],
   "source": [
    "x= torch.tensor([5.5,3])"
   ]
  },
  {
   "cell_type": "code",
   "execution_count": 19,
   "metadata": {},
   "outputs": [
    {
     "name": "stdout",
     "output_type": "stream",
     "text": [
      "tensor([[1., 1., 1.],\n",
      "        [1., 1., 1.],\n",
      "        [1., 1., 1.],\n",
      "        [1., 1., 1.],\n",
      "        [1., 1., 1.]], dtype=torch.float64)\n"
     ]
    }
   ],
   "source": [
    "#x= torch.tensor([5.5,3])\n",
    "x = x.new_ones(5,3, dtype=torch.double)\n",
    "print(x)"
   ]
  },
  {
   "cell_type": "code",
   "execution_count": 21,
   "metadata": {},
   "outputs": [
    {
     "name": "stdout",
     "output_type": "stream",
     "text": [
      "tensor([[-0.0912, -1.9012,  0.4071],\n",
      "        [ 1.0639, -0.4482, -0.9005],\n",
      "        [-0.2238, -0.1243,  1.0268],\n",
      "        [ 0.1535,  0.1139,  0.9352],\n",
      "        [-0.2850, -0.4185, -0.2869]])\n"
     ]
    }
   ],
   "source": [
    "x = torch.randn_like(x, dtype= torch.float)\n",
    "print(x)"
   ]
  },
  {
   "cell_type": "code",
   "execution_count": 22,
   "metadata": {},
   "outputs": [
    {
     "name": "stdout",
     "output_type": "stream",
     "text": [
      "tensor([[ 1.7196,  0.3130,  0.3995],\n",
      "        [-0.4741, -0.4139,  0.7095],\n",
      "        [ 2.1364, -0.5777,  0.8803],\n",
      "        [ 1.1299,  0.0930,  2.0348],\n",
      "        [ 0.6173,  0.2184,  0.2107]])\n"
     ]
    }
   ],
   "source": [
    "x=torch.randn_like(x, dtype=torch.float)\n",
    "print(x)"
   ]
  },
  {
   "cell_type": "code",
   "execution_count": 23,
   "metadata": {},
   "outputs": [
    {
     "name": "stdout",
     "output_type": "stream",
     "text": [
      "torch.Size([5, 3])\n"
     ]
    }
   ],
   "source": [
    "print(x.size())"
   ]
  },
  {
   "cell_type": "code",
   "execution_count": 24,
   "metadata": {},
   "outputs": [],
   "source": [
    "y = torch.rand(5,3)"
   ]
  },
  {
   "cell_type": "code",
   "execution_count": 25,
   "metadata": {},
   "outputs": [
    {
     "name": "stdout",
     "output_type": "stream",
     "text": [
      "tensor([[ 1.7645,  0.3557,  0.9783],\n",
      "        [-0.0194,  0.1498,  0.9489],\n",
      "        [ 2.3127, -0.3001,  1.0183],\n",
      "        [ 1.1670,  0.4703,  2.3240],\n",
      "        [ 1.5512,  1.0370,  1.1988]])\n"
     ]
    }
   ],
   "source": [
    "print(x+y)"
   ]
  },
  {
   "cell_type": "code",
   "execution_count": 26,
   "metadata": {},
   "outputs": [
    {
     "name": "stdout",
     "output_type": "stream",
     "text": [
      "tensor([[ 1.7645,  0.3557,  0.9783],\n",
      "        [-0.0194,  0.1498,  0.9489],\n",
      "        [ 2.3127, -0.3001,  1.0183],\n",
      "        [ 1.1670,  0.4703,  2.3240],\n",
      "        [ 1.5512,  1.0370,  1.1988]])\n"
     ]
    }
   ],
   "source": [
    "print(torch.add(x,y))"
   ]
  },
  {
   "cell_type": "code",
   "execution_count": 27,
   "metadata": {},
   "outputs": [],
   "source": [
    "a = torch.ones(5)"
   ]
  },
  {
   "cell_type": "code",
   "execution_count": 28,
   "metadata": {},
   "outputs": [
    {
     "name": "stdout",
     "output_type": "stream",
     "text": [
      "tensor([1., 1., 1., 1., 1.])\n"
     ]
    }
   ],
   "source": [
    "print(a)"
   ]
  },
  {
   "cell_type": "code",
   "execution_count": 29,
   "metadata": {},
   "outputs": [
    {
     "name": "stdout",
     "output_type": "stream",
     "text": [
      "[ 1.  1.  1.  1.  1.]\n"
     ]
    }
   ],
   "source": [
    "b = a.numpy()\n",
    "print(b)"
   ]
  },
  {
   "cell_type": "code",
   "execution_count": 30,
   "metadata": {},
   "outputs": [
    {
     "data": {
      "text/plain": [
       "tensor([2., 2., 2., 2., 2.])"
      ]
     },
     "execution_count": 30,
     "metadata": {},
     "output_type": "execute_result"
    }
   ],
   "source": [
    "a.add_(1)"
   ]
  },
  {
   "cell_type": "code",
   "execution_count": 32,
   "metadata": {},
   "outputs": [],
   "source": [
    "import numpy as np\n",
    "\n",
    "a= np.ones(5)"
   ]
  },
  {
   "cell_type": "code",
   "execution_count": 34,
   "metadata": {},
   "outputs": [
    {
     "name": "stdout",
     "output_type": "stream",
     "text": [
      "[ 1.  1.  1.  1.  1.]\n",
      "[ 2.  2.  2.  2.  2.]\n"
     ]
    }
   ],
   "source": [
    "print(a)\n",
    "print(b)"
   ]
  },
  {
   "cell_type": "code",
   "execution_count": null,
   "metadata": {},
   "outputs": [],
   "source": [
    "\n"
   ]
  },
  {
   "cell_type": "code",
   "execution_count": null,
   "metadata": {},
   "outputs": [],
   "source": []
  },
  {
   "cell_type": "code",
   "execution_count": null,
   "metadata": {},
   "outputs": [],
   "source": []
  },
  {
   "cell_type": "code",
   "execution_count": null,
   "metadata": {},
   "outputs": [],
   "source": []
  }
 ],
 "metadata": {
  "kernelspec": {
   "display_name": "Python 3",
   "language": "python",
   "name": "python3"
  },
  "language_info": {
   "codemirror_mode": {
    "name": "ipython",
    "version": 3
   },
   "file_extension": ".py",
   "mimetype": "text/x-python",
   "name": "python",
   "nbconvert_exporter": "python",
   "pygments_lexer": "ipython3",
   "version": "3.5.4"
  }
 },
 "nbformat": 4,
 "nbformat_minor": 2
}
